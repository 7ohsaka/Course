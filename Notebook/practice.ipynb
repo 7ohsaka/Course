# 这是jupyter的练习
